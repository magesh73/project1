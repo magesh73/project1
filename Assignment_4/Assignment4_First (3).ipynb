{
  "nbformat": 4,
  "nbformat_minor": 0,
  "metadata": {
    "colab": {
      "name": "Assignment4_First.ipynb",
      "version": "0.3.2",
      "provenance": [],
      "collapsed_sections": []
    },
    "kernelspec": {
      "name": "python3",
      "display_name": "Python 3"
    },
    "accelerator": "GPU"
  },
  "cells": [
    {
      "cell_type": "markdown",
      "metadata": {
        "id": "0NXj7RxVhwFn",
        "colab_type": "text"
      },
      "source": [
        "**Objective**: To Train DNN of MNIST data to detect digits in image by hiting validation accuracy of 99.4 and  parmeters less then 20000. \n",
        "\n",
        "\n",
        "**Architecture** :\n",
        "\n",
        "\n",
        "**Convoultion with Relu(10,3,3)--->Convoultion with Relu(10,3,3)-->Convoultion with Relu(20,3,3)**\n",
        "\n",
        "                                                      |\n",
        "                                                      |\n",
        "                                                     MAXPool(2,2)\n",
        "                                                      |\n",
        "                                                      |\n",
        "                                                      |\n",
        "**Convoultion with Relu(10,1,1)--->Convoultion with Relu(10,3,3)-->Convoultion with Relu(20,1,1)-->Convoultion(10,1,1)**-->Convoultion(10,7,7) \n",
        "\n",
        "                                                     |\n",
        "                                                     |\n",
        "                                                     Flatten\n",
        "                                                     |\n",
        "                                                     |\n",
        "                                                     Softmax\n",
        "                 \n",
        "\n",
        "\n",
        "**OUTCOME**: 10 K parameters at Validation aaccuracy of 98.84\n",
        "\n",
        "**INFERENCE**: With change in epoch size in incements of 100( 10,100,200,300..500)and batch size (32,64,128,512,1024,4096) the accuracy still remained in threshold of **0.9902**, hence concluding that batch and epoch size does not yield desired accuracy with existing architecture\n",
        "\n",
        "\n"
      ]
    },
    {
      "cell_type": "markdown",
      "metadata": {
        "id": "aNyZv-Ec52ot",
        "colab_type": "text"
      },
      "source": [
        "# **Import Libraries and modules**"
      ]
    },
    {
      "cell_type": "code",
      "metadata": {
        "id": "3m3w1Cw49Zkt",
        "colab_type": "code",
        "colab": {}
      },
      "source": [
        "# https://keras.io/\n",
        "!pip install -q keras\n",
        "import keras"
      ],
      "execution_count": 0,
      "outputs": []
    },
    {
      "cell_type": "code",
      "metadata": {
        "id": "Eso6UHE080D4",
        "colab_type": "code",
        "colab": {}
      },
      "source": [
        "import numpy as np\n",
        "\n",
        "from keras.models import Sequential\n",
        "from keras.layers import Dense, Dropout, Activation, Flatten, Add\n",
        "from keras.layers import Convolution2D, MaxPooling2D\n",
        "from keras.utils import np_utils\n",
        "\n",
        "from keras.datasets import mnist"
      ],
      "execution_count": 0,
      "outputs": []
    },
    {
      "cell_type": "markdown",
      "metadata": {
        "id": "zByEi95J86RD",
        "colab_type": "text"
      },
      "source": [
        "### Load pre-shuffled MNIST data into train and test sets"
      ]
    },
    {
      "cell_type": "code",
      "metadata": {
        "id": "7eRM0QWN83PV",
        "colab_type": "code",
        "colab": {}
      },
      "source": [
        "(X_train, y_train), (X_test, y_test) = mnist.load_data()"
      ],
      "execution_count": 0,
      "outputs": []
    },
    {
      "cell_type": "code",
      "metadata": {
        "id": "4a4Be72j8-ZC",
        "colab_type": "code",
        "outputId": "8781f14d-9e5c-4e24-9bb3-43d8cc637c25",
        "colab": {
          "base_uri": "https://localhost:8080/",
          "height": 305
        }
      },
      "source": [
        "print (X_train.shape)\n",
        "from matplotlib import pyplot as plt\n",
        "%matplotlib inline\n",
        "plt.imshow(X_train[0])"
      ],
      "execution_count": 0,
      "outputs": [
        {
          "output_type": "stream",
          "text": [
            "(60000, 28, 28)\n"
          ],
          "name": "stdout"
        },
        {
          "output_type": "execute_result",
          "data": {
            "text/plain": [
              "<matplotlib.image.AxesImage at 0x7f13bbf4e2b0>"
            ]
          },
          "metadata": {
            "tags": []
          },
          "execution_count": 148
        },
        {
          "output_type": "display_data",
          "data": {
            "image/png": "[encoded data removed]",
            "text/plain": [
              "<Figure size 432x288 with 1 Axes>"
            ]
          },
          "metadata": {
            "tags": []
          }
        }
      ]
    },
    {
      "cell_type": "code",
      "metadata": {
        "id": "dkmprriw9AnZ",
        "colab_type": "code",
        "colab": {}
      },
      "source": [
        "X_train = X_train.reshape(X_train.shape[0], 28, 28,1)\n",
        "X_test = X_test.reshape(X_test.shape[0], 28, 28,1)"
      ],
      "execution_count": 0,
      "outputs": []
    },
    {
      "cell_type": "code",
      "metadata": {
        "id": "X2m4YS4E9CRh",
        "colab_type": "code",
        "colab": {}
      },
      "source": [
        "X_train = X_train.astype('float32')\n",
        "X_test = X_test.astype('float32')\n",
        "X_train /= 255\n",
        "X_test /= 255"
      ],
      "execution_count": 0,
      "outputs": []
    },
    {
      "cell_type": "code",
      "metadata": {
        "id": "0Mn0vAYD9DvB",
        "colab_type": "code",
        "outputId": "b026fea3-634f-4f01-b842-58f01aa840d5",
        "colab": {
          "base_uri": "https://localhost:8080/",
          "height": 35
        }
      },
      "source": [
        "y_train[:10]"
      ],
      "execution_count": 0,
      "outputs": [
        {
          "output_type": "execute_result",
          "data": {
            "text/plain": [
              "array([5, 0, 4, 1, 9, 2, 1, 3, 1, 4], dtype=uint8)"
            ]
          },
          "metadata": {
            "tags": []
          },
          "execution_count": 151
        }
      ]
    },
    {
      "cell_type": "code",
      "metadata": {
        "id": "ZG8JiXR39FHC",
        "colab_type": "code",
        "colab": {}
      },
      "source": [
        "# Convert 1-dimensional class arrays to 10-dimensional class matrices\n",
        "Y_train = np_utils.to_categorical(y_train, 10)\n",
        "Y_test = np_utils.to_categorical(y_test, 10)"
      ],
      "execution_count": 0,
      "outputs": []
    },
    {
      "cell_type": "code",
      "metadata": {
        "id": "fYlFRvKS9HMB",
        "colab_type": "code",
        "outputId": "947f29ed-34d2-4f56-c3aa-02162b5ebf33",
        "colab": {
          "base_uri": "https://localhost:8080/",
          "height": 193
        }
      },
      "source": [
        "Y_train[:10]\n"
      ],
      "execution_count": 0,
      "outputs": [
        {
          "output_type": "execute_result",
          "data": {
            "text/plain": [
              "array([[0., 0., 0., 0., 0., 1., 0., 0., 0., 0.],\n",
              "       [1., 0., 0., 0., 0., 0., 0., 0., 0., 0.],\n",
              "       [0., 0., 0., 0., 1., 0., 0., 0., 0., 0.],\n",
              "       [0., 1., 0., 0., 0., 0., 0., 0., 0., 0.],\n",
              "       [0., 0., 0., 0., 0., 0., 0., 0., 0., 1.],\n",
              "       [0., 0., 1., 0., 0., 0., 0., 0., 0., 0.],\n",
              "       [0., 1., 0., 0., 0., 0., 0., 0., 0., 0.],\n",
              "       [0., 0., 0., 1., 0., 0., 0., 0., 0., 0.],\n",
              "       [0., 1., 0., 0., 0., 0., 0., 0., 0., 0.],\n",
              "       [0., 0., 0., 0., 1., 0., 0., 0., 0., 0.]], dtype=float32)"
            ]
          },
          "metadata": {
            "tags": []
          },
          "execution_count": 153
        }
      ]
    },
    {
      "cell_type": "code",
      "metadata": {
        "id": "osKqT73Q9JJB",
        "colab_type": "code",
        "outputId": "0a478714-cae4-45d1-82b4-6d01dc44a42c",
        "colab": {
          "base_uri": "https://localhost:8080/",
          "height": 252
        }
      },
      "source": [
        "from keras.layers import Activation\n",
        "model = Sequential()\n",
        "\n",
        " \n",
        "model.add(Convolution2D(10, 3, 3, activation='relu', input_shape=(28,28,1))) # 26\n",
        "\n",
        "model.add(Convolution2D(10, 3, 3, activation='relu')) # 24\n",
        "model.add(Convolution2D(20, 3, 3, activation='relu')) # 22\n",
        "\n",
        "model.add(MaxPooling2D(pool_size=(2, 2))) # 11\n",
        "model.add(Convolution2D(10, 1, 1, activation='relu')) # 11\n",
        "\n",
        "model.add(Convolution2D(10, 3, 3, activation='relu')) # 9\n",
        "model.add(Convolution2D(20, 3, 3, activation='relu')) # 7\n",
        "\n",
        "model.add(Convolution2D(10, 1, activation='relu')) #7\n",
        "model.add(Convolution2D(10, 7))\n",
        "model.add(Flatten())\n",
        "model.add(Activation('softmax'))"
      ],
      "execution_count": 0,
      "outputs": [
        {
          "output_type": "stream",
          "text": [
            "/usr/local/lib/python3.6/dist-packages/ipykernel_launcher.py:5: UserWarning: Update your `Conv2D` call to the Keras 2 API: `Conv2D(10, (3, 3), activation=\"relu\", input_shape=(28, 28, 1...)`\n",
            "  \"\"\"\n",
            "/usr/local/lib/python3.6/dist-packages/ipykernel_launcher.py:7: UserWarning: Update your `Conv2D` call to the Keras 2 API: `Conv2D(10, (3, 3), activation=\"relu\")`\n",
            "  import sys\n",
            "/usr/local/lib/python3.6/dist-packages/ipykernel_launcher.py:8: UserWarning: Update your `Conv2D` call to the Keras 2 API: `Conv2D(20, (3, 3), activation=\"relu\")`\n",
            "  \n",
            "/usr/local/lib/python3.6/dist-packages/ipykernel_launcher.py:11: UserWarning: Update your `Conv2D` call to the Keras 2 API: `Conv2D(10, (1, 1), activation=\"relu\")`\n",
            "  # This is added back by InteractiveShellApp.init_path()\n",
            "/usr/local/lib/python3.6/dist-packages/ipykernel_launcher.py:13: UserWarning: Update your `Conv2D` call to the Keras 2 API: `Conv2D(10, (3, 3), activation=\"relu\")`\n",
            "  del sys.path[0]\n",
            "/usr/local/lib/python3.6/dist-packages/ipykernel_launcher.py:14: UserWarning: Update your `Conv2D` call to the Keras 2 API: `Conv2D(20, (3, 3), activation=\"relu\")`\n",
            "  \n"
          ],
          "name": "stderr"
        }
      ]
    },
    {
      "cell_type": "code",
      "metadata": {
        "id": "TzdAYg1k9K7Z",
        "colab_type": "code",
        "outputId": "9a115d3e-09b8-463e-f6a3-7e8d7923c401",
        "colab": {
          "base_uri": "https://localhost:8080/",
          "height": 526
        }
      },
      "source": [
        "model.summary()"
      ],
      "execution_count": 0,
      "outputs": [
        {
          "output_type": "stream",
          "text": [
            "_________________________________________________________________\n",
            "Layer (type)                 Output Shape              Param #   \n",
            "=================================================================\n",
            "conv2d_65 (Conv2D)           (None, 26, 26, 10)        100       \n",
            "_________________________________________________________________\n",
            "conv2d_66 (Conv2D)           (None, 24, 24, 10)        910       \n",
            "_________________________________________________________________\n",
            "conv2d_67 (Conv2D)           (None, 22, 22, 20)        1820      \n",
            "_________________________________________________________________\n",
            "max_pooling2d_9 (MaxPooling2 (None, 11, 11, 20)        0         \n",
            "_________________________________________________________________\n",
            "conv2d_68 (Conv2D)           (None, 11, 11, 10)        210       \n",
            "_________________________________________________________________\n",
            "conv2d_69 (Conv2D)           (None, 9, 9, 10)          910       \n",
            "_________________________________________________________________\n",
            "conv2d_70 (Conv2D)           (None, 7, 7, 20)          1820      \n",
            "_________________________________________________________________\n",
            "conv2d_71 (Conv2D)           (None, 1, 1, 10)          9810      \n",
            "_________________________________________________________________\n",
            "conv2d_72 (Conv2D)           (None, 1, 1, 10)          110       \n",
            "_________________________________________________________________\n",
            "flatten_9 (Flatten)          (None, 10)                0         \n",
            "_________________________________________________________________\n",
            "activation_9 (Activation)    (None, 10)                0         \n",
            "=================================================================\n",
            "Total params: 15,690\n",
            "Trainable params: 15,690\n",
            "Non-trainable params: 0\n",
            "_________________________________________________________________\n"
          ],
          "name": "stdout"
        }
      ]
    },
    {
      "cell_type": "code",
      "metadata": {
        "id": "Zp6SuGrL9M3h",
        "colab_type": "code",
        "colab": {}
      },
      "source": [
        "model.compile(loss='categorical_crossentropy',\n",
        "             optimizer='adam',\n",
        "\n",
        "              metrics=['accuracy'])"
      ],
      "execution_count": 0,
      "outputs": []
    },
    {
      "cell_type": "code",
      "metadata": {
        "id": "_zgxNZlFI__f",
        "colab_type": "code",
        "colab": {}
      },
      "source": [
        "model.fit(X_train, Y_train, batch_size=32, nb_epoch=10, verbose=1)"
      ],
      "execution_count": 0,
      "outputs": []
    },
    {
      "cell_type": "code",
      "metadata": {
        "id": "4xWoKhPY9Of5",
        "colab_type": "code",
        "outputId": "b6a5ac45-9c02-4fd6-ec59-d2b923fa8d86",
        "colab": {
          "base_uri": "https://localhost:8080/",
          "height": 4407
        }
      },
      "source": [
        "#batch=1024\n",
        "#iteratino=500\n",
        "#while  (iteratino < 601):\n",
        "#model.fit(X_train, Y_train, batch_size=batch, nb_epoch=iteratino, validation_data=(X_test, Y_test))\n",
        "#score = model.evaluate(X_test, Y_test, verbose=1)\n",
        "#print(batch)\n",
        "#print(iteratino)\n",
        "#print(score)\n",
        "# batch= batch /2\n",
        "#iteratino=iteratino +100"
      ],
      "execution_count": 0,
      "outputs": [
        {
          "output_type": "stream",
          "text": [
            "/usr/local/lib/python3.6/dist-packages/ipykernel_launcher.py:4: UserWarning: The `nb_epoch` argument in `fit` has been renamed `epochs`.\n",
            "  after removing the cwd from sys.path.\n"
          ],
          "name": "stderr"
        },
        {
          "output_type": "stream",
          "text": [
            "Train on 60000 samples, validate on 10000 samples\n",
            "Epoch 1/500\n",
            "60000/60000 [==============================] - 7s 124us/step - loss: 0.3183 - acc: 0.9058 - val_loss: 0.0897 - val_acc: 0.9729\n",
            "Epoch 2/500\n",
            "60000/60000 [==============================] - 6s 103us/step - loss: 0.0911 - acc: 0.9727 - val_loss: 0.0640 - val_acc: 0.9806\n",
            "Epoch 3/500\n",
            "60000/60000 [==============================] - 6s 102us/step - loss: 0.0656 - acc: 0.9803 - val_loss: 0.0567 - val_acc: 0.9825\n",
            "Epoch 4/500\n",
            "60000/60000 [==============================] - 6s 102us/step - loss: 0.0501 - acc: 0.9845 - val_loss: 0.0465 - val_acc: 0.9854\n",
            "Epoch 5/500\n",
            "60000/60000 [==============================] - 6s 103us/step - loss: 0.0421 - acc: 0.9868 - val_loss: 0.0517 - val_acc: 0.9825\n",
            "Epoch 6/500\n",
            "60000/60000 [==============================] - 6s 106us/step - loss: 0.0365 - acc: 0.9893 - val_loss: 0.0441 - val_acc: 0.9866\n",
            "Epoch 7/500\n",
            "60000/60000 [==============================] - 7s 119us/step - loss: 0.0336 - acc: 0.9893 - val_loss: 0.0476 - val_acc: 0.9863\n",
            "Epoch 8/500\n",
            "60000/60000 [==============================] - 6s 106us/step - loss: 0.0293 - acc: 0.9905 - val_loss: 0.0324 - val_acc: 0.9894\n",
            "Epoch 9/500\n",
            "60000/60000 [==============================] - 6s 102us/step - loss: 0.0260 - acc: 0.9916 - val_loss: 0.0502 - val_acc: 0.9837\n",
            "Epoch 10/500\n",
            "60000/60000 [==============================] - 6s 102us/step - loss: 0.0233 - acc: 0.9919 - val_loss: 0.0505 - val_acc: 0.9839\n",
            "Epoch 11/500\n",
            "60000/60000 [==============================] - 6s 102us/step - loss: 0.0219 - acc: 0.9925 - val_loss: 0.0357 - val_acc: 0.9900\n",
            "Epoch 12/500\n",
            "60000/60000 [==============================] - 6s 102us/step - loss: 0.0180 - acc: 0.9939 - val_loss: 0.0333 - val_acc: 0.9905\n",
            "Epoch 13/500\n",
            "60000/60000 [==============================] - 6s 102us/step - loss: 0.0176 - acc: 0.9944 - val_loss: 0.0374 - val_acc: 0.9886\n",
            "Epoch 14/500\n",
            "60000/60000 [==============================] - 6s 103us/step - loss: 0.0159 - acc: 0.9947 - val_loss: 0.0424 - val_acc: 0.9878\n",
            "Epoch 15/500\n",
            "60000/60000 [==============================] - 6s 103us/step - loss: 0.0147 - acc: 0.9952 - val_loss: 0.0456 - val_acc: 0.9864\n",
            "Epoch 16/500\n",
            "60000/60000 [==============================] - 6s 102us/step - loss: 0.0136 - acc: 0.9956 - val_loss: 0.0430 - val_acc: 0.9861\n",
            "Epoch 17/500\n",
            "60000/60000 [==============================] - 6s 102us/step - loss: 0.0128 - acc: 0.9955 - val_loss: 0.0505 - val_acc: 0.9871\n",
            "Epoch 18/500\n",
            "60000/60000 [==============================] - 6s 102us/step - loss: 0.0108 - acc: 0.9966 - val_loss: 0.0443 - val_acc: 0.9897\n",
            "Epoch 19/500\n",
            "60000/60000 [==============================] - 7s 109us/step - loss: 0.0121 - acc: 0.9961 - val_loss: 0.0485 - val_acc: 0.9883\n",
            "Epoch 20/500\n",
            "60000/60000 [==============================] - 7s 119us/step - loss: 0.0106 - acc: 0.9967 - val_loss: 0.0410 - val_acc: 0.9880\n",
            "Epoch 21/500\n",
            "60000/60000 [==============================] - 6s 104us/step - loss: 0.0102 - acc: 0.9964 - val_loss: 0.0440 - val_acc: 0.9893\n",
            "Epoch 22/500\n",
            "60000/60000 [==============================] - 6s 103us/step - loss: 0.0085 - acc: 0.9971 - val_loss: 0.0434 - val_acc: 0.9892\n",
            "Epoch 23/500\n",
            "60000/60000 [==============================] - 6s 103us/step - loss: 0.0091 - acc: 0.9969 - val_loss: 0.0567 - val_acc: 0.9876\n",
            "Epoch 24/500\n",
            "60000/60000 [==============================] - 6s 104us/step - loss: 0.0080 - acc: 0.9973 - val_loss: 0.0525 - val_acc: 0.9888\n",
            "Epoch 25/500\n",
            "60000/60000 [==============================] - 6s 108us/step - loss: 0.0093 - acc: 0.9969 - val_loss: 0.0505 - val_acc: 0.9866\n",
            "Epoch 26/500\n",
            "60000/60000 [==============================] - 7s 125us/step - loss: 0.0073 - acc: 0.9977 - val_loss: 0.0455 - val_acc: 0.9900\n",
            "Epoch 27/500\n",
            "60000/60000 [==============================] - 6s 106us/step - loss: 0.0093 - acc: 0.9970 - val_loss: 0.0480 - val_acc: 0.9897\n",
            "Epoch 28/500\n",
            "60000/60000 [==============================] - 6s 103us/step - loss: 0.0060 - acc: 0.9980 - val_loss: 0.0586 - val_acc: 0.9895\n",
            "Epoch 29/500\n",
            "60000/60000 [==============================] - 6s 102us/step - loss: 0.0078 - acc: 0.9972 - val_loss: 0.0500 - val_acc: 0.9898\n",
            "Epoch 30/500\n",
            "60000/60000 [==============================] - 6s 102us/step - loss: 0.0074 - acc: 0.9976 - val_loss: 0.0651 - val_acc: 0.9882\n",
            "Epoch 31/500\n",
            "60000/60000 [==============================] - 6s 103us/step - loss: 0.0070 - acc: 0.9977 - val_loss: 0.0606 - val_acc: 0.9874\n",
            "Epoch 32/500\n",
            "60000/60000 [==============================] - 7s 117us/step - loss: 0.0058 - acc: 0.9982 - val_loss: 0.0642 - val_acc: 0.9875\n",
            "Epoch 33/500\n",
            "60000/60000 [==============================] - 7s 112us/step - loss: 0.0081 - acc: 0.9973 - val_loss: 0.0576 - val_acc: 0.9882\n",
            "Epoch 34/500\n",
            "60000/60000 [==============================] - 6s 103us/step - loss: 0.0054 - acc: 0.9983 - val_loss: 0.0555 - val_acc: 0.9896\n",
            "Epoch 35/500\n",
            "60000/60000 [==============================] - 6s 102us/step - loss: 0.0067 - acc: 0.9981 - val_loss: 0.0524 - val_acc: 0.9877\n",
            "Epoch 36/500\n",
            "60000/60000 [==============================] - 6s 103us/step - loss: 0.0056 - acc: 0.9979 - val_loss: 0.0627 - val_acc: 0.9885\n",
            "Epoch 37/500\n",
            "60000/60000 [==============================] - 6s 102us/step - loss: 0.0059 - acc: 0.9980 - val_loss: 0.0539 - val_acc: 0.9884\n",
            "Epoch 38/500\n",
            "60000/60000 [==============================] - 6s 103us/step - loss: 0.0070 - acc: 0.9978 - val_loss: 0.0661 - val_acc: 0.9872\n",
            "Epoch 39/500\n",
            "60000/60000 [==============================] - 6s 103us/step - loss: 0.0057 - acc: 0.9982 - val_loss: 0.0570 - val_acc: 0.9890\n",
            "Epoch 40/500\n",
            "60000/60000 [==============================] - 6s 102us/step - loss: 0.0059 - acc: 0.9981 - val_loss: 0.0678 - val_acc: 0.9883\n",
            "Epoch 41/500\n",
            "60000/60000 [==============================] - 6s 103us/step - loss: 0.0058 - acc: 0.9981 - val_loss: 0.0621 - val_acc: 0.9878\n",
            "Epoch 42/500\n",
            "60000/60000 [==============================] - 6s 103us/step - loss: 0.0053 - acc: 0.9983 - val_loss: 0.0631 - val_acc: 0.9880\n",
            "Epoch 43/500\n",
            "60000/60000 [==============================] - 6s 103us/step - loss: 0.0054 - acc: 0.9981 - val_loss: 0.0674 - val_acc: 0.9898\n",
            "Epoch 44/500\n",
            "60000/60000 [==============================] - 6s 104us/step - loss: 0.0045 - acc: 0.9986 - val_loss: 0.0673 - val_acc: 0.9873\n",
            "Epoch 45/500\n",
            "60000/60000 [==============================] - 7s 120us/step - loss: 0.0054 - acc: 0.9981 - val_loss: 0.0724 - val_acc: 0.9875\n",
            "Epoch 46/500\n",
            "60000/60000 [==============================] - 7s 110us/step - loss: 0.0064 - acc: 0.9979 - val_loss: 0.0553 - val_acc: 0.9903\n",
            "Epoch 47/500\n",
            "60000/60000 [==============================] - 6s 103us/step - loss: 0.0051 - acc: 0.9985 - val_loss: 0.0673 - val_acc: 0.9883\n",
            "Epoch 48/500\n",
            "60000/60000 [==============================] - 6s 103us/step - loss: 0.0056 - acc: 0.9984 - val_loss: 0.0585 - val_acc: 0.9895\n",
            "Epoch 49/500\n",
            "60000/60000 [==============================] - 6s 102us/step - loss: 0.0030 - acc: 0.9991 - val_loss: 0.0673 - val_acc: 0.9898\n",
            "Epoch 50/500\n",
            "60000/60000 [==============================] - 6s 102us/step - loss: 0.0061 - acc: 0.9981 - val_loss: 0.0579 - val_acc: 0.9898\n",
            "Epoch 51/500\n",
            "60000/60000 [==============================] - 6s 103us/step - loss: 0.0051 - acc: 0.9983 - val_loss: 0.0618 - val_acc: 0.9892\n",
            "Epoch 52/500\n",
            "60000/60000 [==============================] - 6s 103us/step - loss: 0.0042 - acc: 0.9986 - val_loss: 0.0667 - val_acc: 0.9881\n",
            "Epoch 53/500\n",
            "60000/60000 [==============================] - 6s 103us/step - loss: 0.0051 - acc: 0.9985 - val_loss: 0.0562 - val_acc: 0.9889\n",
            "Epoch 54/500\n",
            "60000/60000 [==============================] - 6s 104us/step - loss: 0.0039 - acc: 0.9990 - val_loss: 0.0803 - val_acc: 0.9872\n",
            "Epoch 55/500\n",
            "60000/60000 [==============================] - 6s 103us/step - loss: 0.0047 - acc: 0.9986 - val_loss: 0.0625 - val_acc: 0.9890\n",
            "Epoch 56/500\n",
            "60000/60000 [==============================] - 6s 103us/step - loss: 0.0052 - acc: 0.9984 - val_loss: 0.0616 - val_acc: 0.9897\n",
            "Epoch 57/500\n",
            "60000/60000 [==============================] - 6s 108us/step - loss: 0.0057 - acc: 0.9981 - val_loss: 0.0710 - val_acc: 0.9877\n",
            "Epoch 58/500\n",
            "60000/60000 [==============================] - 7s 119us/step - loss: 0.0033 - acc: 0.9988 - val_loss: 0.0748 - val_acc: 0.9894\n",
            "Epoch 59/500\n",
            "60000/60000 [==============================] - 6s 106us/step - loss: 0.0049 - acc: 0.9984 - val_loss: 0.0762 - val_acc: 0.9868\n",
            "Epoch 60/500\n",
            "60000/60000 [==============================] - 6s 103us/step - loss: 0.0036 - acc: 0.9990 - val_loss: 0.0722 - val_acc: 0.9871\n",
            "Epoch 61/500\n",
            "60000/60000 [==============================] - 6s 103us/step - loss: 0.0031 - acc: 0.9990 - val_loss: 0.0919 - val_acc: 0.9864\n",
            "Epoch 62/500\n",
            "60000/60000 [==============================] - 6s 104us/step - loss: 0.0058 - acc: 0.9984 - val_loss: 0.0804 - val_acc: 0.9879\n",
            "Epoch 63/500\n",
            "60000/60000 [==============================] - 6s 104us/step - loss: 0.0033 - acc: 0.9990 - val_loss: 0.0923 - val_acc: 0.9875\n",
            "Epoch 64/500\n",
            "60000/60000 [==============================] - 6s 104us/step - loss: 0.0040 - acc: 0.9986 - val_loss: 0.0855 - val_acc: 0.9873\n",
            "Epoch 65/500\n",
            "60000/60000 [==============================] - 6s 104us/step - loss: 0.0040 - acc: 0.9988 - val_loss: 0.0728 - val_acc: 0.9874\n",
            "Epoch 66/500\n",
            "60000/60000 [==============================] - 6s 104us/step - loss: 0.0053 - acc: 0.9983 - val_loss: 0.0733 - val_acc: 0.9882\n",
            "Epoch 67/500\n",
            "60000/60000 [==============================] - 6s 104us/step - loss: 0.0041 - acc: 0.9988 - val_loss: 0.0706 - val_acc: 0.9884\n",
            "Epoch 68/500\n",
            "60000/60000 [==============================] - 6s 104us/step - loss: 0.0044 - acc: 0.9986 - val_loss: 0.0750 - val_acc: 0.9890\n",
            "Epoch 69/500\n",
            "60000/60000 [==============================] - 6s 103us/step - loss: 0.0040 - acc: 0.9988 - val_loss: 0.0573 - val_acc: 0.9910\n",
            "Epoch 70/500\n",
            "60000/60000 [==============================] - 7s 114us/step - loss: 0.0036 - acc: 0.9990 - val_loss: 0.0721 - val_acc: 0.9872\n",
            "Epoch 71/500\n",
            "60000/60000 [==============================] - 7s 117us/step - loss: 0.0027 - acc: 0.9992 - val_loss: 0.0677 - val_acc: 0.9894\n",
            "Epoch 72/500\n",
            "60000/60000 [==============================] - 6s 105us/step - loss: 0.0042 - acc: 0.9988 - val_loss: 0.0712 - val_acc: 0.9898\n",
            "Epoch 73/500\n",
            "60000/60000 [==============================] - 6s 104us/step - loss: 0.0053 - acc: 0.9985 - val_loss: 0.0882 - val_acc: 0.9871\n",
            "Epoch 74/500\n",
            "60000/60000 [==============================] - 7s 109us/step - loss: 0.0034 - acc: 0.9990 - val_loss: 0.0698 - val_acc: 0.9889\n",
            "Epoch 75/500\n",
            "60000/60000 [==============================] - 8s 125us/step - loss: 0.0030 - acc: 0.9990 - val_loss: 0.0809 - val_acc: 0.9889\n",
            "Epoch 76/500\n",
            "60000/60000 [==============================] - 6s 106us/step - loss: 0.0054 - acc: 0.9985 - val_loss: 0.0609 - val_acc: 0.9909\n",
            "Epoch 77/500\n",
            "60000/60000 [==============================] - 6s 103us/step - loss: 0.0029 - acc: 0.9991 - val_loss: 0.0734 - val_acc: 0.9882\n",
            "Epoch 78/500\n",
            "60000/60000 [==============================] - 6s 104us/step - loss: 0.0035 - acc: 0.9991 - val_loss: 0.0641 - val_acc: 0.9902\n",
            "Epoch 79/500\n",
            "60000/60000 [==============================] - 6s 104us/step - loss: 0.0045 - acc: 0.9986 - val_loss: 0.0729 - val_acc: 0.9894\n",
            "Epoch 80/500\n",
            "60000/60000 [==============================] - 6s 104us/step - loss: 0.0040 - acc: 0.9987 - val_loss: 0.0870 - val_acc: 0.9885\n",
            "Epoch 81/500\n",
            "60000/60000 [==============================] - 6s 105us/step - loss: 0.0042 - acc: 0.9987 - val_loss: 0.0710 - val_acc: 0.9892\n",
            "Epoch 82/500\n",
            "60000/60000 [==============================] - 6s 107us/step - loss: 0.0041 - acc: 0.9987 - val_loss: 0.0635 - val_acc: 0.9894\n",
            "Epoch 83/500\n",
            "60000/60000 [==============================] - 7s 119us/step - loss: 0.0034 - acc: 0.9990 - val_loss: 0.0560 - val_acc: 0.9897\n",
            "Epoch 84/500\n",
            "60000/60000 [==============================] - 6s 107us/step - loss: 0.0022 - acc: 0.9994 - val_loss: 0.0677 - val_acc: 0.9903\n",
            "Epoch 85/500\n",
            "60000/60000 [==============================] - 6s 104us/step - loss: 0.0035 - acc: 0.9989 - val_loss: 0.0719 - val_acc: 0.9893\n",
            "Epoch 86/500\n",
            "60000/60000 [==============================] - 6s 104us/step - loss: 0.0040 - acc: 0.9990 - val_loss: 0.0734 - val_acc: 0.9887\n",
            "Epoch 87/500\n",
            "60000/60000 [==============================] - 6s 104us/step - loss: 0.0054 - acc: 0.9986 - val_loss: 0.0684 - val_acc: 0.9902\n",
            "Epoch 88/500\n",
            "60000/60000 [==============================] - 6s 104us/step - loss: 0.0030 - acc: 0.9990 - val_loss: 0.0714 - val_acc: 0.9894\n",
            "Epoch 89/500\n",
            "60000/60000 [==============================] - 6s 104us/step - loss: 0.0030 - acc: 0.9992 - val_loss: 0.0838 - val_acc: 0.9885\n",
            "Epoch 90/500\n",
            "60000/60000 [==============================] - 6s 104us/step - loss: 0.0037 - acc: 0.9990 - val_loss: 0.0703 - val_acc: 0.9893\n",
            "Epoch 91/500\n",
            "60000/60000 [==============================] - 6s 104us/step - loss: 0.0037 - acc: 0.9990 - val_loss: 0.0793 - val_acc: 0.9881\n",
            "Epoch 92/500\n",
            "60000/60000 [==============================] - 6s 103us/step - loss: 0.0041 - acc: 0.9987 - val_loss: 0.0826 - val_acc: 0.9893\n",
            "Epoch 93/500\n",
            "60000/60000 [==============================] - 7s 110us/step - loss: 0.0038 - acc: 0.9989 - val_loss: 0.0803 - val_acc: 0.9897\n",
            "Epoch 94/500\n",
            "60000/60000 [==============================] - 7s 111us/step - loss: 0.0026 - acc: 0.9992 - val_loss: 0.0828 - val_acc: 0.9887\n",
            "Epoch 95/500\n",
            "60000/60000 [==============================] - 7s 114us/step - loss: 0.0025 - acc: 0.9993 - val_loss: 0.0877 - val_acc: 0.9860\n",
            "Epoch 96/500\n",
            "60000/60000 [==============================] - 7s 116us/step - loss: 0.0057 - acc: 0.9984 - val_loss: 0.0713 - val_acc: 0.9887\n",
            "Epoch 97/500\n",
            "60000/60000 [==============================] - 6s 103us/step - loss: 0.0012 - acc: 0.9997 - val_loss: 0.0653 - val_acc: 0.9908\n",
            "Epoch 98/500\n",
            "60000/60000 [==============================] - 6s 104us/step - loss: 0.0056 - acc: 0.9983 - val_loss: 0.0696 - val_acc: 0.9904\n",
            "Epoch 99/500\n",
            "60000/60000 [==============================] - 6s 103us/step - loss: 0.0035 - acc: 0.9990 - val_loss: 0.0817 - val_acc: 0.9879\n",
            "Epoch 100/500\n",
            "60000/60000 [==============================] - 6s 104us/step - loss: 0.0029 - acc: 0.9992 - val_loss: 0.0689 - val_acc: 0.9902\n",
            "Epoch 101/500\n",
            "60000/60000 [==============================] - 6s 105us/step - loss: 0.0032 - acc: 0.9992 - val_loss: 0.0772 - val_acc: 0.9894\n",
            "Epoch 102/500\n",
            "60000/60000 [==============================] - 6s 104us/step - loss: 0.0034 - acc: 0.9991 - val_loss: 0.1018 - val_acc: 0.9859\n",
            "Epoch 103/500\n",
            "60000/60000 [==============================] - 6s 104us/step - loss: 0.0057 - acc: 0.9983 - val_loss: 0.0733 - val_acc: 0.9875\n",
            "Epoch 104/500\n",
            "60000/60000 [==============================] - 6s 103us/step - loss: 0.0031 - acc: 0.9991 - val_loss: 0.0733 - val_acc: 0.9892\n",
            "Epoch 105/500\n",
            "60000/60000 [==============================] - 6s 104us/step - loss: 0.0028 - acc: 0.9991 - val_loss: 0.0719 - val_acc: 0.9884\n",
            "Epoch 106/500\n",
            "60000/60000 [==============================] - 6s 104us/step - loss: 0.0021 - acc: 0.9992 - val_loss: 0.0756 - val_acc: 0.9880\n",
            "Epoch 107/500\n",
            "60000/60000 [==============================] - 6s 104us/step - loss: 0.0042 - acc: 0.9987 - val_loss: 0.0818 - val_acc: 0.9895\n",
            "Epoch 108/500\n",
            "60000/60000 [==============================] - 7s 118us/step - loss: 0.0028 - acc: 0.9993 - val_loss: 0.0706 - val_acc: 0.9902\n",
            "Epoch 109/500\n",
            "60000/60000 [==============================] - 7s 112us/step - loss: 0.0041 - acc: 0.9990 - val_loss: 0.0804 - val_acc: 0.9877\n",
            "Epoch 110/500\n",
            "60000/60000 [==============================] - 6s 104us/step - loss: 0.0018 - acc: 0.9995 - val_loss: 0.0685 - val_acc: 0.9899\n",
            "Epoch 111/500\n",
            "60000/60000 [==============================] - 6s 104us/step - loss: 0.0027 - acc: 0.9994 - val_loss: 0.0931 - val_acc: 0.9877\n",
            "Epoch 112/500\n",
            "60000/60000 [==============================] - 6s 103us/step - loss: 0.0046 - acc: 0.9988 - val_loss: 0.0859 - val_acc: 0.9886\n",
            "Epoch 113/500\n",
            "60000/60000 [==============================] - 6s 104us/step - loss: 0.0030 - acc: 0.9993 - val_loss: 0.0924 - val_acc: 0.9880\n",
            "Epoch 114/500\n",
            "60000/60000 [==============================] - 6s 103us/step - loss: 0.0039 - acc: 0.9987 - val_loss: 0.0905 - val_acc: 0.9877\n",
            "Epoch 115/500\n",
            "60000/60000 [==============================] - 6s 103us/step - loss: 0.0033 - acc: 0.9990 - val_loss: 0.0797 - val_acc: 0.9882\n",
            "Epoch 116/500\n",
            "60000/60000 [==============================] - 6s 104us/step - loss: 0.0028 - acc: 0.9992 - val_loss: 0.0886 - val_acc: 0.9891\n",
            "Epoch 117/500\n",
            "60000/60000 [==============================] - 6s 103us/step - loss: 0.0027 - acc: 0.9992 - val_loss: 0.0817 - val_acc: 0.9891\n",
            "Epoch 118/500\n",
            "60000/60000 [==============================] - 6s 104us/step - loss: 0.0040 - acc: 0.9990 - val_loss: 0.0797 - val_acc: 0.9887\n",
            "Epoch 119/500\n",
            "60000/60000 [==============================] - 6s 104us/step - loss: 9.9514e-04 - acc: 0.9998 - val_loss: 0.0807 - val_acc: 0.9894\n",
            "Epoch 120/500\n",
            "60000/60000 [==============================] - 6s 108us/step - loss: 0.0048 - acc: 0.9988 - val_loss: 0.0744 - val_acc: 0.9894\n",
            "Epoch 121/500\n",
            "60000/60000 [==============================] - 7s 120us/step - loss: 0.0040 - acc: 0.9990 - val_loss: 0.0773 - val_acc: 0.9906\n",
            "Epoch 122/500\n",
            "38464/60000 [==================>...........] - ETA: 2s - loss: 7.8230e-04 - acc: 0.9998"
          ],
          "name": "stdout"
        }
      ]
    },
    {
      "cell_type": "code",
      "metadata": {
        "id": "AtsH-lLk-eLb",
        "colab_type": "code",
        "colab": {}
      },
      "source": [
        "score = model.evaluate(X_test, Y_test, verbose=0)"
      ],
      "execution_count": 0,
      "outputs": []
    },
    {
      "cell_type": "code",
      "metadata": {
        "id": "mkX8JMv79q9r",
        "colab_type": "code",
        "outputId": "c288fa13-4b40-4d97-a306-b9b410837356",
        "colab": {
          "base_uri": "https://localhost:8080/",
          "height": 34
        }
      },
      "source": [
        "print(score)"
      ],
      "execution_count": 0,
      "outputs": [
        {
          "output_type": "stream",
          "text": [
            "[0.15197064627863158, 0.9889]\n"
          ],
          "name": "stdout"
        }
      ]
    },
    {
      "cell_type": "code",
      "metadata": {
        "id": "OCWoJkwE9suh",
        "colab_type": "code",
        "colab": {}
      },
      "source": [
        "y_pred = model.predict(X_test)"
      ],
      "execution_count": 0,
      "outputs": []
    },
    {
      "cell_type": "code",
      "metadata": {
        "id": "Ym7iCFBm9uBs",
        "colab_type": "code",
        "outputId": "6ef63de2-e9cc-4b3c-cddf-57ffcfc5252a",
        "colab": {
          "base_uri": "https://localhost:8080/",
          "height": 354
        }
      },
      "source": [
        "print(y_pred[:9])\n",
        "print(y_test[:9])"
      ],
      "execution_count": 0,
      "outputs": [
        {
          "output_type": "stream",
          "text": [
            "[[0.0000000e+00 0.0000000e+00 0.0000000e+00 0.0000000e+00 0.0000000e+00\n",
            "  0.0000000e+00 0.0000000e+00 1.0000000e+00 0.0000000e+00 0.0000000e+00]\n",
            " [0.0000000e+00 0.0000000e+00 1.0000000e+00 0.0000000e+00 0.0000000e+00\n",
            "  0.0000000e+00 0.0000000e+00 0.0000000e+00 0.0000000e+00 0.0000000e+00]\n",
            " [0.0000000e+00 1.0000000e+00 0.0000000e+00 0.0000000e+00 0.0000000e+00\n",
            "  0.0000000e+00 0.0000000e+00 0.0000000e+00 0.0000000e+00 0.0000000e+00]\n",
            " [1.0000000e+00 0.0000000e+00 0.0000000e+00 0.0000000e+00 0.0000000e+00\n",
            "  0.0000000e+00 0.0000000e+00 0.0000000e+00 0.0000000e+00 0.0000000e+00]\n",
            " [0.0000000e+00 0.0000000e+00 0.0000000e+00 0.0000000e+00 1.0000000e+00\n",
            "  0.0000000e+00 0.0000000e+00 0.0000000e+00 0.0000000e+00 0.0000000e+00]\n",
            " [0.0000000e+00 1.0000000e+00 0.0000000e+00 0.0000000e+00 0.0000000e+00\n",
            "  0.0000000e+00 0.0000000e+00 0.0000000e+00 0.0000000e+00 0.0000000e+00]\n",
            " [0.0000000e+00 0.0000000e+00 0.0000000e+00 0.0000000e+00 1.0000000e+00\n",
            "  0.0000000e+00 0.0000000e+00 0.0000000e+00 0.0000000e+00 0.0000000e+00]\n",
            " [0.0000000e+00 0.0000000e+00 0.0000000e+00 0.0000000e+00 0.0000000e+00\n",
            "  0.0000000e+00 0.0000000e+00 0.0000000e+00 0.0000000e+00 1.0000000e+00]\n",
            " [0.0000000e+00 0.0000000e+00 0.0000000e+00 0.0000000e+00 0.0000000e+00\n",
            "  1.0000000e+00 1.7050002e-08 0.0000000e+00 0.0000000e+00 0.0000000e+00]]\n",
            "[7 2 1 0 4 1 4 9 5]\n"
          ],
          "name": "stdout"
        }
      ]
    },
    {
      "cell_type": "code",
      "metadata": {
        "id": "CT--y98_dr2T",
        "colab_type": "code",
        "colab": {}
      },
      "source": [
        "layer_dict = dict([(layer.name, layer) for layer in model.layers])"
      ],
      "execution_count": 0,
      "outputs": []
    },
    {
      "cell_type": "code",
      "metadata": {
        "id": "2GY4Upv4dsUR",
        "colab_type": "code",
        "outputId": "c5a25211-e276-445e-efdb-2fa205a2f763",
        "colab": {
          "base_uri": "https://localhost:8080/",
          "height": 327
        }
      },
      "source": [
        "import numpy as np\n",
        "from matplotlib import pyplot as plt\n",
        "from keras import backend as K\n",
        "%matplotlib inline\n",
        "# util function to convert a tensor into a valid image\n",
        "def deprocess_image(x):\n",
        "    # normalize tensor: center on 0., ensure std is 0.1\n",
        "    x -= x.mean()\n",
        "    x /= (x.std() + 1e-5)\n",
        "    x *= 0.1\n",
        "\n",
        "    # clip to [0, 1]\n",
        "    x += 0.5\n",
        "    x = np.clip(x, 0, 1)\n",
        "\n",
        "    # convert to RGB array\n",
        "    x *= 255\n",
        "    #x = x.transpose((1, 2, 0))\n",
        "    x = np.clip(x, 0, 255).astype('uint8')\n",
        "    return x\n",
        "\n",
        "def vis_img_in_filter(img = np.array(X_train[2]).reshape((1, 28, 28, 1)).astype(np.float64), \n",
        "                      layer_name = 'conv2d_14'):\n",
        "    layer_output = layer_dict[layer_name].output\n",
        "    img_ascs = list()\n",
        "    for filter_index in range(layer_output.shape[3]):\n",
        "        # build a loss function that maximizes the activation\n",
        "        # of the nth filter of the layer considered\n",
        "        loss = K.mean(layer_output[:, :, :, filter_index])\n",
        "\n",
        "        # compute the gradient of the input picture wrt this loss\n",
        "        grads = K.gradients(loss, model.input)[0]\n",
        "\n",
        "        # normalization trick: we normalize the gradient\n",
        "        grads /= (K.sqrt(K.mean(K.square(grads))) + 1e-5)\n",
        "\n",
        "        # this function returns the loss and grads given the input picture\n",
        "        iterate = K.function([model.input], [loss, grads])\n",
        "\n",
        "        # step size for gradient ascent\n",
        "        step = 5.\n",
        "\n",
        "        img_asc = np.array(img)\n",
        "        # run gradient ascent for 20 steps\n",
        "        for i in range(20):\n",
        "            loss_value, grads_value = iterate([img_asc])\n",
        "            img_asc += grads_value * step\n",
        "\n",
        "        img_asc = img_asc[0]\n",
        "        img_ascs.append(deprocess_image(img_asc).reshape((28, 28)))\n",
        "        \n",
        "    if layer_output.shape[3] >= 35:\n",
        "        plot_x, plot_y = 6, 6\n",
        "    elif layer_output.shape[3] >= 23:\n",
        "        plot_x, plot_y = 4, 6\n",
        "    elif layer_output.shape[3] >= 11:\n",
        "        plot_x, plot_y = 2, 6\n",
        "    else:\n",
        "        plot_x, plot_y = 1, 2\n",
        "    fig, ax = plt.subplots(plot_x, plot_y, figsize = (12, 12))\n",
        "    ax[0, 0].imshow(img.reshape((28, 28)), cmap = 'gray')\n",
        "    ax[0, 0].set_title('Input image')\n",
        "    fig.suptitle('Input image and %s filters' % (layer_name,))\n",
        "    fig.tight_layout(pad = 0.3, rect = [0, 0, 0.9, 0.9])\n",
        "    for (x, y) in [(i, j) for i in range(plot_x) for j in range(plot_y)]:\n",
        "        if x == 0 and y == 0:\n",
        "            continue\n",
        "        ax[x, y].imshow(img_ascs[x * plot_y + y - 1], cmap = 'gray')\n",
        "        ax[x, y].set_title('filter %d' % (x * plot_y + y - 1))\n",
        "\n",
        "vis_img_in_filter()"
      ],
      "execution_count": 0,
      "outputs": [
        {
          "output_type": "error",
          "ename": "KeyError",
          "evalue": "ignored",
          "traceback": [
            "\u001b[0;31m---------------------------------------------------------------------------\u001b[0m",
            "\u001b[0;31mKeyError\u001b[0m                                  Traceback (most recent call last)",
            "\u001b[0;32m<ipython-input-163-19229f66b51a>\u001b[0m in \u001b[0;36m<module>\u001b[0;34m()\u001b[0m\n\u001b[1;32m     69\u001b[0m         \u001b[0max\u001b[0m\u001b[0;34m[\u001b[0m\u001b[0mx\u001b[0m\u001b[0;34m,\u001b[0m \u001b[0my\u001b[0m\u001b[0;34m]\u001b[0m\u001b[0;34m.\u001b[0m\u001b[0mset_title\u001b[0m\u001b[0;34m(\u001b[0m\u001b[0;34m'filter %d'\u001b[0m \u001b[0;34m%\u001b[0m \u001b[0;34m(\u001b[0m\u001b[0mx\u001b[0m \u001b[0;34m*\u001b[0m \u001b[0mplot_y\u001b[0m \u001b[0;34m+\u001b[0m \u001b[0my\u001b[0m \u001b[0;34m-\u001b[0m \u001b[0;36m1\u001b[0m\u001b[0;34m)\u001b[0m\u001b[0;34m)\u001b[0m\u001b[0;34m\u001b[0m\u001b[0;34m\u001b[0m\u001b[0m\n\u001b[1;32m     70\u001b[0m \u001b[0;34m\u001b[0m\u001b[0m\n\u001b[0;32m---> 71\u001b[0;31m \u001b[0mvis_img_in_filter\u001b[0m\u001b[0;34m(\u001b[0m\u001b[0;34m)\u001b[0m\u001b[0;34m\u001b[0m\u001b[0;34m\u001b[0m\u001b[0m\n\u001b[0m",
            "\u001b[0;32m<ipython-input-163-19229f66b51a>\u001b[0m in \u001b[0;36mvis_img_in_filter\u001b[0;34m(img, layer_name)\u001b[0m\n\u001b[1;32m     22\u001b[0m def vis_img_in_filter(img = np.array(X_train[2]).reshape((1, 28, 28, 1)).astype(np.float64), \n\u001b[1;32m     23\u001b[0m                       layer_name = 'conv2d_14'):\n\u001b[0;32m---> 24\u001b[0;31m     \u001b[0mlayer_output\u001b[0m \u001b[0;34m=\u001b[0m \u001b[0mlayer_dict\u001b[0m\u001b[0;34m[\u001b[0m\u001b[0mlayer_name\u001b[0m\u001b[0;34m]\u001b[0m\u001b[0;34m.\u001b[0m\u001b[0moutput\u001b[0m\u001b[0;34m\u001b[0m\u001b[0;34m\u001b[0m\u001b[0m\n\u001b[0m\u001b[1;32m     25\u001b[0m     \u001b[0mimg_ascs\u001b[0m \u001b[0;34m=\u001b[0m \u001b[0mlist\u001b[0m\u001b[0;34m(\u001b[0m\u001b[0;34m)\u001b[0m\u001b[0;34m\u001b[0m\u001b[0;34m\u001b[0m\u001b[0m\n\u001b[1;32m     26\u001b[0m     \u001b[0;32mfor\u001b[0m \u001b[0mfilter_index\u001b[0m \u001b[0;32min\u001b[0m \u001b[0mrange\u001b[0m\u001b[0;34m(\u001b[0m\u001b[0mlayer_output\u001b[0m\u001b[0;34m.\u001b[0m\u001b[0mshape\u001b[0m\u001b[0;34m[\u001b[0m\u001b[0;36m3\u001b[0m\u001b[0;34m]\u001b[0m\u001b[0;34m)\u001b[0m\u001b[0;34m:\u001b[0m\u001b[0;34m\u001b[0m\u001b[0;34m\u001b[0m\u001b[0m\n",
            "\u001b[0;31mKeyError\u001b[0m: 'conv2d_14'"
          ]
        }
      ]
    },
    {
      "cell_type": "code",
      "metadata": {
        "id": "9tvptcn8dxvp",
        "colab_type": "code",
        "colab": {}
      },
      "source": [
        ""
      ],
      "execution_count": 0,
      "outputs": []
    }
  ]
}